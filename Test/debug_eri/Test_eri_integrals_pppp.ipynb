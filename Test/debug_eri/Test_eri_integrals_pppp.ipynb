{
 "cells": [
  {
   "cell_type": "markdown",
   "metadata": {},
   "source": [
    "# Recursion relations of electron repulsion integrals"
   ]
  },
  {
   "cell_type": "markdown",
   "metadata": {},
   "source": [
    "## Global Variables and Importing other modules"
   ]
  },
  {
   "cell_type": "code",
   "execution_count": 1,
   "metadata": {
    "collapsed": true
   },
   "outputs": [],
   "source": [
    "import math\n",
    "import Tools\n",
    "from Tools import *\n",
    "import scipy as sc\n",
    "import sys\n",
    "import numpy as np\n",
    "import Task\n",
    "from Task import getbasis, getgeom\n",
    "import Integrals\n",
    "from Integrals import normalization"
   ]
  },
  {
   "cell_type": "code",
   "execution_count": 2,
   "metadata": {
    "collapsed": true
   },
   "outputs": [],
   "source": [
    "eps = None\n",
    "gamma = None\n",
    "gammainv = None\n",
    "pab = None \n",
    "fab = None\n",
    "ab = None\n",
    "kab = None\n",
    "\n",
    "nu = None\n",
    "nuinv = None\n",
    "qcd = None\n",
    "fcd = None\n",
    "cd = None\n",
    "kcd = None\n",
    "\n",
    "nugammainv = None\n",
    "rho = None\n",
    "t = None\n",
    "\n",
    "na = None\n",
    "nb = None\n",
    "nc = None\n",
    "nd = None\n",
    "\n",
    "\n",
    "def def_global(a,coefa,A,la,b,coefb,B,lb,c,coefc,C,lc,d,coefd,D,ld):\n",
    "    eps = 1e-5\n",
    "    gamma = a+b\n",
    "    gammainv = 1.0/gamma\n",
    "    pab = np.multiply(np.add(np.multiply(a,A),np.multiply(b,B)),gammainv)\n",
    "    fab = coefa*coefb\n",
    "    ab = euclidean_norm2(np.subtract(A,B))*gammainv\n",
    "    kab = fab*np.exp(-1.0*a*b*ab)*gammainv\n",
    "\n",
    "    nu = c+d\n",
    "    nuinv = 1.0/nu\n",
    "    qcd = np.multiply(np.add(np.multiply(c,C),np.multiply(d,D)),nuinv)\n",
    "    fcd = coefc*coefd\n",
    "    cd = euclidean_norm2(np.subtract(C,D))*nuinv\n",
    "    kcd = fcd*np.exp(-1.0*c*d*cd)*nuinv\n",
    "\n",
    "    nugammainv = 1.0/(nu+gamma)\n",
    "    rho = nu*gamma*nugammainv\n",
    "    t = rho*euclidean_norm2(np.subtract(pab,qcd))\n",
    "   \n",
    "    na = max(la)\n",
    "    nb = max(lb)\n",
    "    nc = max(lc)\n",
    "    nd = max(ld)\n",
    "        \n",
    "def F_m(terms):\n",
    "       F = []\n",
    "       for i in range(terms+1):\n",
    "          F.append(incompletegammaf(t,i))\n",
    "       return F"
   ]
  },
  {
   "cell_type": "markdown",
   "metadata": {},
   "source": [
    "# Some classes to handle the molecule and basis info:"
   ]
  },
  {
   "cell_type": "code",
   "execution_count": 3,
   "metadata": {
    "collapsed": true
   },
   "outputs": [],
   "source": [
    "class System_mol():\n",
    "    '''This class contains all the information of the system\n",
    "    extracted from mol and basis'''\n",
    "    def __init__(self,mol,basis,ne,mol_name):\n",
    "\n",
    "          self.mol_name = mol_name\n",
    "          ## Info for basis\n",
    "          Basis = getbasis(mol,basis_set)                                  # Get basis\n",
    "          self.nbasis = len(Basis.alpha)\n",
    "          self.alpha = np.array(Basis.alpha)                                    # Alpha\n",
    "          #self.alpha_algopy = UTPM.init_jacobian(Basis.alpha)\n",
    "          self.xyz = np.reshape(np.array(Basis.xyz,dtype='float64'),(self.nbasis,3)) # Nuclear coordinates\n",
    "          self.l = Basis.l          \n",
    " \n",
    "          ## Geometry\n",
    "          Geom = getgeom(mol)                           # Get basis\n",
    "          self.charges = np.array(Geom.charge)               # Charges\n",
    "          self.atom = np.array(Geom.xyz)                     # Alpha\n",
    "          self.natoms = len(self.charges)\n",
    "    \n",
    "          ## Normalization\n",
    "          self.coef = np.sign(Basis.coef)*normalization(np.array(Basis.alpha),self.xyz,self.l,self.nbasis)\n",
    "   \n",
    "          ## Number of electrons\n",
    "          self.ne = ne\n",
    "          return"
   ]
  },
  {
   "cell_type": "code",
   "execution_count": 4,
   "metadata": {
    "collapsed": true
   },
   "outputs": [],
   "source": [
    "hcn = [(1,(0.0,0.0,0.0)),\n",
    "       (6,(0.0, 0.0, 2.0125581778365533)),\n",
    "       (7,(0.0, 0.0, 4.1914122426680516))]\n",
    "\n",
    "basis_set = \\\n",
    "{1: [('S',\n",
    "     [(1.309756377 ,0.430128498)]),     \n",
    "     ('S',\n",
    "      [(0.233135974 ,0.678913531)])], \n",
    " 6: [('S',\n",
    "       [(27.38503303,0.430128498)]),\n",
    "     ('S',\n",
    "       [(4.874522052,0.678913531)]),\n",
    "     ('S',\n",
    "       [(1.136748189,0.51154070)]),\n",
    "     ('S',\n",
    "       [(0.288309360,0.612819896)]),\n",
    "     ('P',\n",
    "       [(1.136748189,0.51154070)]),\n",
    "     ('P',\n",
    "       [(0.288309360,0.612819896)])],\n",
    " 7: [('S',\n",
    "       [(99.106168999999994, 0.15432897000000001)]),\n",
    "     ('S',\n",
    "       [(18.052312000000001, 0.53532813999999995)]),\n",
    "     ('S',\n",
    "       [(4.8856602000000002, 0.44463454000000002)]),\n",
    "     ('S',\n",
    "       [(3.7804559000000002, -0.099967230000000004)]),\n",
    "     ('S',\n",
    "       [(0.87849659999999996, 0.39951282999999999)]),\n",
    "     ('S',\n",
    "       [(0.28571439999999998, 0.70011546999999996)]),\n",
    "     ('P',\n",
    "      [(3.7804559000000002, 0.15591627)]),\n",
    "     ('P',\n",
    "      [(0.87849659999999996, 0.60768372000000004)]),\n",
    "     ('P',\n",
    "      [(0.28571439999999998, 0.39195739000000002)])],\n",
    " 8: [('S',\n",
    "      [(49.9809710, 0.4301280)]),\n",
    "     ('S',\n",
    "       [(8.8965880, 0.6789140)]),\n",
    "     ('S',\n",
    "       [(1.9452370,0.0494720)]),\n",
    "     ('S',\n",
    "       [(0.4933630 ,0.9637820)]),\n",
    "     ('P',\n",
    "       [(1.9452370,0.0494720)]),\n",
    "     ('P',\n",
    "       [(0.4933630 ,0.9637820)])],\n",
    " 9:[ ('S',\n",
    "       [(63.7352020  ,   0.4301280)]),\n",
    "     ('S',\n",
    "       [(11.3448340  ,   0.6789140)]),\n",
    "     ('S',\n",
    "       [(11.3448340  ,   0.6789140)]),\n",
    "     ('S',\n",
    "       [(2.4985480   ,   0.0494720)]),\n",
    "     ('S',\n",
    "       [(0.6336980   ,   0.9637820)]),\n",
    "     ('P',\n",
    "       [(2.4985480   ,   0.5115410)]),\n",
    "     ('P',\n",
    "       [(0.6336980   ,   0.6128200)])],\n",
    "}\n",
    "\n"
   ]
  },
  {
   "cell_type": "markdown",
   "metadata": {},
   "source": [
    "# Integral definition"
   ]
  },
  {
   "cell_type": "markdown",
   "metadata": {},
   "source": [
    "\\begin{eqnarray}\n",
    "(p_i s s s) &=& (P_i - A_i) {(s s s s)}^{(0)} + (W_i - Q_i) {(s s s s)}^{(1)}\n",
    "\\end{eqnarray} "
   ]
  },
  {
   "cell_type": "code",
   "execution_count": 5,
   "metadata": {
    "collapsed": true
   },
   "outputs": [],
   "source": [
    "def psss(i,P,A_xyz,m):\n",
    "    #print 'I am calculating psss'\n",
    "    res = []\n",
    "    PA =P[i]-A_xyz[i]\n",
    "    WP = wpq[i]-P[i]\n",
    "    for n in range(m+1):\n",
    "        res.append(PA*Fs[0+n]+WP*Fs[1+n])\n",
    "    return res"
   ]
  },
  {
   "cell_type": "markdown",
   "metadata": {},
   "source": [
    "\\begin{eqnarray}\n",
    "(p_i s p_k s) &=& (Q_k - D_k) {(p_i s s s)}^{(0)} + (W_k - Q_k) {(p_i s s s)}^{(1)} \\\\\n",
    "                  &+& \\frac{\\delta_{ik}}{2(\\eta + \\nu)}  (s s s s)^{(1)}\n",
    "\\end{eqnarray} "
   ]
  },
  {
   "cell_type": "code",
   "execution_count": 6,
   "metadata": {
    "collapsed": true
   },
   "outputs": [],
   "source": [
    "def ppss(i,j,P,A_xyz,B_xyz,ginv,m):\n",
    "    #print 'I am calculating ppss'\n",
    "    psss_aux = psss(i,P,A_xyz,m+1)\n",
    "    res = []\n",
    "    PB =P[j]-B_xyz[j]\n",
    "    WP = wpq[j]-P[j]\n",
    "    for n in range(m+1):\n",
    "        tmp = PB*psss_aux[n]+WP*psss_aux[n+1]\n",
    "        if (i==j):\n",
    "            tmp = tmp + 0.5*ginv*(Fs[0+n]- rho*ginv*Fs[n+1])\n",
    "        res.append(tmp)\n",
    "    return res"
   ]
  },
  {
   "cell_type": "markdown",
   "metadata": {},
   "source": [
    "\\begin{eqnarray}\n",
    "(p_i p_j s s) &=& (P_j - B_j) {(p_i s s s)}^{(0)} + (W_j - Q_j) {(p_i sss)}^{(1)} \\\\\n",
    "                  &+& \\frac{\\delta_{ij}}{2\\eta} \\{  (ss s s)^{(0)} - \\frac{\\rho}{\\eta} (ss s s)^{(1)} \\}\n",
    "\\end{eqnarray} "
   ]
  },
  {
   "cell_type": "code",
   "execution_count": 7,
   "metadata": {
    "collapsed": true
   },
   "outputs": [],
   "source": [
    "def psps(i,k,P,Q,A_xyz,C_xyz,nginv,m):\n",
    "    #print 'I am calculating psps'\n",
    "    psss_aux = psss(i,P,A_xyz,m+1)\n",
    "    res = []\n",
    "    QC =Q[k]-C_xyz[k]\n",
    "    WQ = wpq[k]-Q[k]\n",
    "    for n in range(m+1):\n",
    "        tmp = QC*psss_aux[n]+WQ*psss_aux[n+1]\n",
    "        if (i==k):\n",
    "            tmp = tmp + 0.5*nginv*(Fs[1+n])\n",
    "        res.append(tmp)\n",
    "    return res\n",
    "    "
   ]
  },
  {
   "cell_type": "markdown",
   "metadata": {},
   "source": [
    "\\begin{eqnarray}\n",
    "(p_i p_j p_k s) &=& (Q_k - D_k) {(p_i p_j s s)}^{(0)} + (W_k - Q_k) {(p_i p_j s s)}^{(1)} \\\\\n",
    "                  &+& \\frac{1}{2(\\eta + \\nu)} \\{ \\delta_{ik} (s p_j s s)^{(1)} + \\delta_{jk} (p_i s s s)^{(1)}\\}\\\\\n",
    "\\end{eqnarray} "
   ]
  },
  {
   "cell_type": "code",
   "execution_count": 8,
   "metadata": {
    "collapsed": true
   },
   "outputs": [],
   "source": [
    "def ppps(i,j,k,P,Q,A_xyz,B_xyz,C_xyz,ginv,m): \n",
    "    #print 'I am calculating ppps'\n",
    "    ppss_aux = ppss(i,j,P,A_xyz,B_xyz,ginv,m+1)\n",
    "    QC =Q[k]-C_xyz[k]\n",
    "    WQ = wpq[k]-Q[k]\n",
    "    res = []\n",
    "    for n in range(m+1):\n",
    "        tmp = QC*ppss_aux[n]+WQ*ppss_aux[n+1]\n",
    "        if (i==k):\n",
    "            tmp = tmp + 0.5*nugammainv*psss(j,P,B_xyz,n+m+1)[n+m+1]\n",
    "        if (j==k):\n",
    "             tmp = tmp + 0.5*nugammainv*psss(i,P,A_xyz,n+m+1)[n+m+1]\n",
    "        res.append(tmp)\n",
    "       #print 'I entered ppps',res\n",
    "    return res"
   ]
  },
  {
   "cell_type": "markdown",
   "metadata": {},
   "source": [
    "\\begin{eqnarray}\n",
    "(p_i p_j p_k p_l) &=& (Q_l - D_l) {(p_i p_j p_k s)}^{(0)} + (W_l - Q_l) {(p_i p_j p_k s)}^{(1)} \\\\\n",
    "                  &+& \\frac{1}{2(\\eta + \\nu)} \\{ \\delta_{il} (s p_j p_k s)^{(1)} + \\delta_{jl} (p_i s p_k s)^{(1)}\\}\\\\\n",
    "                  &+& \\frac{\\delta_{kl}}{2\\nu} \\{  (p_i p_j s s)^{(0)} - \\frac{\\rho}{\\nu} (p_i p_j s s)^{(1)} \\}\n",
    "\\end{eqnarray} "
   ]
  },
  {
   "cell_type": "code",
   "execution_count": 9,
   "metadata": {
    "collapsed": true
   },
   "outputs": [],
   "source": [
    "def pppp(integer):\n",
    "    #print 'I am calculating pppp'\n",
    "    i = la.index(na)\n",
    "    j = lb.index(nb)\n",
    "    k = lc.index(nc)\n",
    "    l = ld.index(nd)\n",
    "    #ppps_aux = ppps(i,j,k,np.copy(pab),np.copy(qcd),np.copy(A),np.copy(B),np.copy(C),gammainv,1) \n",
    "    ppps_aux = ppps(i,j,k,pab,qcd,A,B,C,gammainv,1) \n",
    "    QD =qcd[l]-D[l]\n",
    "    WQ =wpq[l]-qcd[l] \n",
    "    #print 'angular',i,j,k,l\n",
    "    tmp = QD*ppps_aux[0]+WQ*ppps_aux[1]\n",
    "    print 'term 1',tmp\n",
    "    print ppps_aux\n",
    "    #print 'tmp in pppp',tmp\n",
    "    if (i==l):\n",
    "      #print '1 i==l'\n",
    "        spps_aux = psps(j,k,pab,qcd,B,C,nugammainv,1) \n",
    "        print 'term2', 0.5*nugammainv*spps_aux[1]\n",
    "        tmp = tmp + 0.5*nugammainv*spps_aux[1]\n",
    "    if (j==l):\n",
    "        #print '2 j==i'\n",
    "        #print A,C,i,k\n",
    "        #print nugammainv,tmp\n",
    "                 #def psps(i,k,P,Q,A_xyz,C_xyz,nginv,m):\n",
    "        psps_aux = psps(i,k,pab,qcd,A,C,nugammainv,1) \n",
    "        print 'term3',0.5*nugammainv*psps_aux[1]\n",
    "        tmp = tmp + 0.5*nugammainv*psps_aux[1]\n",
    "    if (k==l):\n",
    "        #print '3 k==l'\n",
    "        ppss_aux = ppss(i,j,pab,A,B,gammainv,1) \n",
    "        tmp = tmp + 0.5*nuinv*(ppss_aux[0]-nuinv*rho*ppss_aux[1])\n",
    "        print 'term4',0.5*nuinv*(ppss_aux[0]-nuinv*rho*ppss_aux[1])\n",
    "       #print 'I entered pppp',tmp\n",
    "    print 'Total',tmp\n",
    "    return tmp "
   ]
  },
  {
   "cell_type": "markdown",
   "metadata": {},
   "source": [
    "### An global handdle"
   ]
  },
  {
   "cell_type": "code",
   "execution_count": 10,
   "metadata": {
    "collapsed": true
   },
   "outputs": [],
   "source": [
    "def global_feeder(Mol,i=6,j=8,k=6,m=20):\n",
    "        ''' In computes the Eris tensor \n",
    "        and compare it with the file benckmark '''\n",
    "\n",
    "        nbasis = Mol.nbasis\n",
    "\n",
    "        def_global(Mol.alpha[i],Mol.coef[i],Mol.xyz[i],Mol.l[i],Mol.alpha[j],Mol.coef[j],Mol.xyz[j],Mol.l[j],\n",
    "                        Mol.alpha[k],Mol.coef[k],Mol.xyz[k],Mol.l[k],Mol.alpha[m],Mol.coef[m],Mol.xyz[m],Mol.l[m])\n",
    "        return\n"
   ]
  },
  {
   "cell_type": "markdown",
   "metadata": {},
   "source": [
    "# Let's test a couple of examples\n",
    "## Molecule"
   ]
  },
  {
   "cell_type": "code",
   "execution_count": 11,
   "metadata": {
    "collapsed": false
   },
   "outputs": [],
   "source": [
    "hcn_basis = System_mol(hcn,basis_set,2,'hcn')"
   ]
  },
  {
   "cell_type": "markdown",
   "metadata": {},
   "source": [
    "# Let's choose  \n",
    "(6 8 20 6) -> $(Cp_x, Cp_z, Np_z, Cp_x)$\n"
   ]
  },
  {
   "cell_type": "code",
   "execution_count": 33,
   "metadata": {
    "collapsed": false
   },
   "outputs": [],
   "source": [
    "ii = 6 \n",
    "jj = 8\n",
    "kk = 20\n",
    "ll = 6"
   ]
  },
  {
   "cell_type": "code",
   "execution_count": 34,
   "metadata": {
    "collapsed": false
   },
   "outputs": [
    {
     "name": "stdout",
     "output_type": "stream",
     "text": [
      "gcf\n",
      "gcf\n",
      "gcf\n",
      "gser\n",
      "gser\n"
     ]
    }
   ],
   "source": [
    "a = hcn_basis.alpha[ii]\n",
    "coefa = hcn_basis.coef[ii]\n",
    "A = hcn_basis.xyz[ii]\n",
    "la = hcn_basis.l[ii]\n",
    "\n",
    "b = hcn_basis.alpha[jj]\n",
    "coefb = hcn_basis.coef[jj]\n",
    "B = hcn_basis.xyz[jj]\n",
    "lb = hcn_basis.l[jj]\n",
    "\n",
    "c = hcn_basis.alpha[kk]\n",
    "coefc = hcn_basis.coef[kk]\n",
    "C = hcn_basis.xyz[kk]\n",
    "lc = hcn_basis.l[kk]\n",
    "\n",
    "d = hcn_basis.alpha[ll]\n",
    "coefd = hcn_basis.coef[ll]\n",
    "D = hcn_basis.xyz[ll]\n",
    "ld = hcn_basis.l[ll]\n",
    "\n",
    "eps = 1e-5\n",
    "gamma = a+b\n",
    "gammainv = 1.0/gamma\n",
    "pab = np.multiply(np.add(np.multiply(a,A),np.multiply(b,B)),gammainv)\n",
    "fab = coefa*coefb\n",
    "ab = euclidean_norm2(np.subtract(A,B))*gammainv\n",
    "kab = fab*np.exp(-1.0*a*b*ab)*gammainv\n",
    "\n",
    "nu = c+d\n",
    "nuinv = 1.0/nu\n",
    "qcd = np.multiply(np.add(np.multiply(c,C),np.multiply(d,D)),nuinv)\n",
    "fcd = coefc*coefd\n",
    "cd = euclidean_norm2(np.subtract(C,D))*nuinv\n",
    "kcd = fcd*np.exp(-1.0*c*d*cd)*nuinv\n",
    "\n",
    "nugammainv = 1.0/(nu+gamma)\n",
    "rho = nu*gamma*nugammainv\n",
    "t = rho*euclidean_norm2(np.subtract(pab,qcd))\n",
    "   \n",
    "na = max(la)\n",
    "nb = max(lb)\n",
    "nc = max(lc)\n",
    "nd = max(ld)\n",
    "\n",
    "prefactor =  kcd*kab*2.0*pow(np.pi,2.5)*np.sqrt(nugammainv)\n",
    "wpq= np.multiply(np.add(np.multiply(gamma,pab),np.multiply(nu,qcd)),nugammainv)\n",
    "\n",
    "Fs = F_m(na+nb+nc+nd)"
   ]
  },
  {
   "cell_type": "code",
   "execution_count": 35,
   "metadata": {
    "collapsed": false
   },
   "outputs": [
    {
     "name": "stdout",
     "output_type": "stream",
     "text": [
      "term 1 0.0\n",
      "[0.0, 0.0]\n",
      "term2 -0.000812727828308\n",
      "Total -0.000812727828308\n",
      "-0.000526723598416\n"
     ]
    }
   ],
   "source": [
    "eris = pppp(9)*prefactor\n",
    "print eris"
   ]
  },
  {
   "cell_type": "markdown",
   "metadata": {
    "collapsed": true
   },
   "source": [
    "This is correct:-0.000526723598416"
   ]
  },
  {
   "cell_type": "markdown",
   "metadata": {},
   "source": [
    "# Let's choose  \n",
    "(6 8 20 6) -> $(Cp_x, Cp_z, Cp_x,  Np_z)$\n"
   ]
  },
  {
   "cell_type": "code",
   "execution_count": 36,
   "metadata": {
    "collapsed": true
   },
   "outputs": [],
   "source": [
    "ii = 6 \n",
    "jj = 8\n",
    "kk = 6\n",
    "ll = 20"
   ]
  },
  {
   "cell_type": "code",
   "execution_count": 37,
   "metadata": {
    "collapsed": false
   },
   "outputs": [
    {
     "name": "stdout",
     "output_type": "stream",
     "text": [
      "gcf\n",
      "gcf\n",
      "gcf\n",
      "gser\n",
      "gser\n"
     ]
    }
   ],
   "source": [
    "a = hcn_basis.alpha[ii]\n",
    "coefa = hcn_basis.coef[ii]\n",
    "A = hcn_basis.xyz[ii]\n",
    "la = hcn_basis.l[ii]\n",
    "\n",
    "b = hcn_basis.alpha[jj]\n",
    "coefb = hcn_basis.coef[jj]\n",
    "B = hcn_basis.xyz[jj]\n",
    "lb = hcn_basis.l[jj]\n",
    "\n",
    "c = hcn_basis.alpha[kk]\n",
    "coefc = hcn_basis.coef[kk]\n",
    "C = hcn_basis.xyz[kk]\n",
    "lc = hcn_basis.l[kk]\n",
    "\n",
    "d = hcn_basis.alpha[ll]\n",
    "coefd = hcn_basis.coef[ll]\n",
    "D = hcn_basis.xyz[ll]\n",
    "ld = hcn_basis.l[ll]\n",
    "\n",
    "eps = 1e-5\n",
    "gamma = a+b\n",
    "gammainv = 1.0/gamma\n",
    "pab = np.multiply(np.add(np.multiply(a,A),np.multiply(b,B)),gammainv)\n",
    "fab = coefa*coefb\n",
    "ab = euclidean_norm2(np.subtract(A,B))*gammainv\n",
    "kab = fab*np.exp(-1.0*a*b*ab)*gammainv\n",
    "\n",
    "nu = c+d\n",
    "nuinv = 1.0/nu\n",
    "qcd = np.multiply(np.add(np.multiply(c,C),np.multiply(d,D)),nuinv)\n",
    "fcd = coefc*coefd\n",
    "cd = euclidean_norm2(np.subtract(C,D))*nuinv\n",
    "kcd = fcd*np.exp(-1.0*c*d*cd)*nuinv\n",
    "\n",
    "nugammainv = 1.0/(nu+gamma)\n",
    "rho = nu*gamma*nugammainv\n",
    "t = rho*euclidean_norm2(np.subtract(pab,qcd))\n",
    "   \n",
    "na = max(la)\n",
    "nb = max(lb)\n",
    "nc = max(lc)\n",
    "nd = max(ld)\n",
    "\n",
    "prefactor =  kcd*kab*2.0*pow(np.pi,2.5)*np.sqrt(nugammainv)\n",
    "wpq= np.multiply(np.add(np.multiply(gamma,pab),np.multiply(nu,qcd)),nugammainv)\n",
    "\n",
    "Fs = F_m(na+nb+nc+nd)"
   ]
  },
  {
   "cell_type": "code",
   "execution_count": 38,
   "metadata": {
    "collapsed": false
   },
   "outputs": [
    {
     "name": "stdout",
     "output_type": "stream",
     "text": [
      "term 1 -0.000453607621264\n",
      "[0.00055483740789222344, 0.00032878188444654421]\n",
      "term3 7.10964692271e-05\n",
      "Total -0.000382511152037\n",
      "-0.000247902979838\n"
     ]
    }
   ],
   "source": [
    "eris = pppp(9)*prefactor\n",
    "print eris"
   ]
  },
  {
   "cell_type": "markdown",
   "metadata": {},
   "source": [
    "### Now let's separate the function (pppp)\n",
    "$(Cp_x, Cp_z, Cp_x,  Np_z)$"
   ]
  },
  {
   "cell_type": "markdown",
   "metadata": {},
   "source": [
    "\\begin{eqnarray}\n",
    "(p_i p_j p_k p_l) &=& (Q_l - D_l) {(p_i p_j p_k s)}^{(0)} + (W_l - Q_l) {(p_i p_j p_k s)}^{(1)} \\\\\n",
    "                  &+& \\frac{1}{2(\\eta + \\nu)} \\{  \\delta_{jl} (p_i s p_k s)^{(1)}\\}\n",
    "                \\}\n",
    "\\end{eqnarray} "
   ]
  },
  {
   "cell_type": "code",
   "execution_count": 39,
   "metadata": {
    "collapsed": false
   },
   "outputs": [
    {
     "name": "stdout",
     "output_type": "stream",
     "text": [
      "term 1 -0.000453607621264\n",
      "ppps_aux [0.00055483740789222344, 0.00032878188444654421]\n",
      "term3 7.10964692271e-05\n",
      "Total -0.000247902979838\n"
     ]
    }
   ],
   "source": [
    "i = la.index(na)\n",
    "j = lb.index(nb)\n",
    "k = lc.index(nc)\n",
    "l = ld.index(nd)\n",
    "ppps_aux = ppps(i,j,k,pab,qcd,A,B,C,gammainv,1) \n",
    "QD =qcd[l]-D[l]\n",
    "WQ =wpq[l]-qcd[l] \n",
    "\n",
    "tmp = QD*ppps_aux[0]+WQ*ppps_aux[1]\n",
    "print 'term 1',tmp\n",
    "print 'ppps_aux',ppps_aux\n",
    "#print 'tmp in pppp',tmp\n",
    "if (j==l):\n",
    "    psps_aux = psps(i,k,pab,qcd,A,C,nugammainv,1) \n",
    "    print 'term3',0.5*nugammainv*psps_aux[1]\n",
    "    tmp = tmp + 0.5*nugammainv*psps_aux[1]\n",
    "\n",
    "print 'Total',tmp*prefactor"
   ]
  },
  {
   "cell_type": "markdown",
   "metadata": {},
   "source": [
    "### Now let's disect ppps(0)\n",
    "$(Cp_x, Cp_z, Cp_x,  Np_z)$\n",
    "\\begin{eqnarray}\n",
    "(p_i p_j p_k s) &=& \n",
    "                   \\frac{1}{2(\\eta + \\nu)} \\{ \\delta_{ik} (s p_j s s)^{(1)} \\}\\\\\n",
    "\\end{eqnarray} \n",
    "\n",
    "\n",
    "\n",
    "Original:\n",
    "\n",
    "def ppps(i,j,k,P,Q,A_xyz,B_xyz,C_xyz,ginv,m): \n",
    "    #print 'I am calculating ppps'\n",
    "    ppss_aux = ppss(i,j,P,A_xyz,B_xyz,ginv,m+1)\n",
    "    QC =Q[k]-C_xyz[k]\n",
    "    WQ = wpq[k]-Q[k]\n",
    "    res = []\n",
    "    for n in range(m+1):\n",
    "        tmp = QC*ppss_aux[n]+WQ*ppss_aux[n+1]\n",
    "        if (i==k):\n",
    "            tmp = tmp + 0.5*nugammainv*psss(j,P,B_xyz,n+m+1)[n+m+1]\n",
    "        if (j==k):\n",
    "             tmp = tmp + 0.5*nugammainv*psss(i,P,A_xyz,n+m+1)[n+m+1]\n",
    "        res.append(tmp)\n",
    "       #print 'I entered ppps',res\n",
    "    return res"
   ]
  },
  {
   "cell_type": "code",
   "execution_count": 43,
   "metadata": {
    "collapsed": false
   },
   "outputs": [
    {
     "name": "stdout",
     "output_type": "stream",
     "text": [
      "4.917204089 2.273496378\n",
      "0.00117125200801\n"
     ]
    }
   ],
   "source": [
    "# ppps(i,j,k,P,Q,A_xyz,B_xyz,C_xyz,ginv,m): \n",
    "m=n= 0\n",
    "print nu,gamma,\n",
    "tmp = 0.5*nugammainv*psss(j,pab,B,1)[1]\n",
    "ppps_0 = tmp\n",
    "print ppps_0"
   ]
  },
  {
   "cell_type": "code",
   "execution_count": 47,
   "metadata": {
    "collapsed": false
   },
   "outputs": [
    {
     "name": "stdout",
     "output_type": "stream",
     "text": [
      "0 2 0\n",
      "0.000554837407892\n"
     ]
    }
   ],
   "source": [
    "m=n= 1\n",
    "print i,j,k\n",
    "tmp = 0.5*nugammainv*psss(j,pab,B,2)[2]\n",
    "ppps_1 = tmp\n",
    "print ppps_1"
   ]
  },
  {
   "cell_type": "markdown",
   "metadata": {},
   "source": [
    "### Let's calculate ppp again"
   ]
  },
  {
   "cell_type": "code",
   "execution_count": 48,
   "metadata": {
    "collapsed": false
   },
   "outputs": [
    {
     "name": "stdout",
     "output_type": "stream",
     "text": [
      "term 1 -0.000883824297535\n",
      "term3 7.10964692271e-05\n",
      "Total -0.000526723598416\n"
     ]
    }
   ],
   "source": [
    "i = la.index(na)\n",
    "j = lb.index(nb)\n",
    "k = lc.index(nc)\n",
    "l = ld.index(nd)\n",
    "ppps_aux = ppps(i,j,k,pab,qcd,A,B,C,gammainv,1) \n",
    "QD =qcd[l]-D[l]\n",
    "WQ =wpq[l]-qcd[l] \n",
    "\n",
    "tmp = QD*ppps_0+WQ*ppps_1\n",
    "print 'term 1',tmp\n",
    "#print 'tmp in pppp',tmp\n",
    "if (j==l):\n",
    "    psps_aux = psps(i,k,pab,qcd,A,C,nugammainv,1) \n",
    "    print 'term3',0.5*nugammainv*psps_aux[1]\n",
    "    tmp = tmp + 0.5*nugammainv*psps_aux[1]\n",
    "\n",
    "print 'Total',tmp*prefactor"
   ]
  },
  {
   "cell_type": "markdown",
   "metadata": {
    "collapsed": true
   },
   "source": [
    "I found it :)!\n",
    "Let's correct the function"
   ]
  },
  {
   "cell_type": "code",
   "execution_count": 60,
   "metadata": {
    "collapsed": false
   },
   "outputs": [
    {
     "name": "stdout",
     "output_type": "stream",
     "text": [
      "m 1\n",
      "n 1\n",
      "n 2\n",
      "term 1 -0.000883824297535\n",
      "[0.0011712520080098888, 0.00055483740789222344]\n",
      "term3 7.10964692271e-05\n",
      "Total -0.000812727828308\n",
      "-0.000526723598416\n"
     ]
    }
   ],
   "source": [
    "def ppps(i,j,k,P,Q,A_xyz,B_xyz,C_xyz,ginv,m): \n",
    "    #print 'I am calculating ppps'\n",
    "    print 'm',m\n",
    "    ppss_aux = ppss(i,j,P,A_xyz,B_xyz,ginv,m+1)\n",
    "    QC =Q[k]-C_xyz[k]\n",
    "    WQ = wpq[k]-Q[k]\n",
    "    res = []\n",
    "    if (i==k):\n",
    "        spss_aux = psss(j,P,B_xyz,m+1)\n",
    "    if (j==k):\n",
    "        psss_aux = psss(i,P,A_xyz,m+1)\n",
    "    for n in range(m+1):\n",
    "        tmp = QC*ppss_aux[n]+WQ*ppss_aux[n+1]\n",
    "        if (i==k):\n",
    "            tmp = tmp + 0.5*nugammainv*spss_aux[n+1]\n",
    "            print 'n',n+m\n",
    "        if (j==k):\n",
    "             tmp = tmp + 0.5*nugammainv*spss_aux[n+1]\n",
    "        res.append(tmp)\n",
    "       #print 'I entered ppps',res\n",
    "    return res\n",
    "\n",
    "eris = pppp(9)*prefactor\n",
    "print eris"
   ]
  },
  {
   "cell_type": "code",
   "execution_count": null,
   "metadata": {
    "collapsed": true
   },
   "outputs": [],
   "source": []
  }
 ],
 "metadata": {
  "anaconda-cloud": {},
  "kernelspec": {
   "display_name": "Python [default]",
   "language": "python",
   "name": "python2"
  },
  "language_info": {
   "codemirror_mode": {
    "name": "ipython",
    "version": 2
   },
   "file_extension": ".py",
   "mimetype": "text/x-python",
   "name": "python",
   "nbconvert_exporter": "python",
   "pygments_lexer": "ipython2",
   "version": "2.7.12"
  }
 },
 "nbformat": 4,
 "nbformat_minor": 1
}
